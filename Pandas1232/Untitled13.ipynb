{
 "cells": [
  {
   "cell_type": "code",
   "execution_count": 1,
   "id": "e9342434",
   "metadata": {},
   "outputs": [],
   "source": [
    "import pandas as pd"
   ]
  },
  {
   "cell_type": "code",
   "execution_count": 26,
   "id": "258699e1",
   "metadata": {},
   "outputs": [],
   "source": [
    "a = '''[05/08/2022, 11:10:42 PM] ‪+92 345 3113993‬: Iqbal Ahmed AI-46214 03453113993 iq.ahmed91@gmail.com\n",
    "[05/08/2022, 11:11:59 PM] ‪+92 304 3184681‬: Muhammad Saad: AI46190 03043184681: sm.saad50@gmail.com\n",
    "‎[05/08/2022, 11:12:04 PM] Uni Zeeshan: re.rar ‎document omitted\n",
    "[05/08/2022, 11:12:05 PM] ‪+92 300 2303175‬: Shahzad Ahmed : AI-46165 - 03002303175 - shaze.ahmed@gmail.com\n",
    "[05/08/2022, 11:12:43 PM] ‪+92 315 2935701‬: name: Sami rollno:AI- 40483 email: samikhan2872@gmail.com mobile-no:03152935701\n",
    "[05/08/2022, 11:13:17 PM] ‪+92 334 2995610‬: Talha Mehfooz, AI-40211 email: khurshaiditm47@gmail.com , mobile: 03342995610\n",
    "[05/08/2022, 11:13:18 PM] ‪+92 335 3271054‬: Muhammad Mohsin: AI-53993\n",
    "Email: mohsinsheikh0700@gmail.com\n",
    "No: 03353271054\n",
    "[05/08/2022, 11:13:29 PM] ‪+92 345 2541450‬: Hidayat ur Rehman : AI-6546 email: abc@gmail.com\n",
    "[05/08/2022, 11:13:30 PM] ‪+92 316 2688657‬: Muhammad Faizan: AI 40939\n",
    "faizanwaseem476@gmail.com\n",
    "[05/08/2022, 11:13:31 PM] ‪+92 344 2226632‬: Name: Saad Ahmed\n",
    "RollNo: AI-47242\n",
    "Email: hello.saad96@gmail.com\n",
    "[05/08/2022, 11:13:32 PM] ‪+92 313 1145255‬: Gulzar :\n",
    "AI-20145\n",
    "Email:hafizgulzar.alm1996@gmail.com\n",
    "Mobile no. 03131134244\n",
    "[05/08/2022, 11:13:34 PM] ‪+92 323 2900066‬: Abdul Rasheed AI-40154\n",
    "email: abdulrasheed2511gmail.com\n",
    "[05/08/2022, 11:13:46 PM] ‪+92 306 2462926‬: ‎This message was deleted.\n",
    "[05/08/2022, 11:13:59 PM] Uni Zeeshan: Muhammad Zeeshan : AI-400250 \n",
    "Email: abc@gmail.com\n",
    "Mobile no: 03153727169\n",
    "[05/08/2022, 11:14:03 PM] ‪+92 342 3392795‬: Ahmed saleem :AI-44378\n",
    "Email: ahmedsaleem2122@gmail.com\n",
    "Mobile no:0342-3392795\n",
    "[05/08/2022, 11:14:07 PM] Ali Nasir Al & DS: Name : Ali Nasir \n",
    "Roll No: 44365 \n",
    "NIC: 42101-9864676-7 \n",
    "Email: malinasir1997@gmail.com \n",
    "Mobile No: 0331-2147373\n",
    "[05/08/2022, 11:14:14 PM] ‪+92 333 3120597‬: Name : Hamza Ahmed Ansari Roll number : AI-40591 Email : ibneshakeel2000@gmail.com Mobile number : 03333120597\n",
    "[05/08/2022, 11:14:15 PM] Zubair Rasheed: name: Zubair\n",
    "roll no: AI- 40200 \n",
    "email: zubairrasheed0316@gmail.com \n",
    "mobile-no: 03161448439\n",
    "[05/08/2022, 11:14:24 PM] ‪+92 315 2185186‬: Name: Irfan Roll Number: AI-45055 email: irfanmuhammadk786@gmail.com Mobile Number: 03152185186\n",
    "[05/08/2022, 11:15:16 PM] ‪+92 312 2093412‬: Basharat Ali :AI-46716\n",
    "Email: basharatfarhad24@gmail.com\n",
    "Mobile no:03122093412\n",
    "[05/08/2022, 11:15:19 PM] ‪+92 312 2296999‬: ‎This message was deleted.\n",
    "[05/08/2022, 11:15:27 PM] ‪+92 344 1802958‬: Name: Muhammad usama\n",
    "Roll no : AI-43985\n",
    "Mobile no : 03441802958\n",
    "Email : usamakh315@gmail.com\n",
    "[05/08/2022, 11:15:30 PM] ‪+92 312 8525358‬: Faraz uddin : AI-44226- 03128525358 - asbausmuhammad92@gmail.com\n",
    "[05/08/2022, 11:15:36 PM] ‪+92 334 3523966‬: Name: Syed Muhammad Mooazam , Roll No: AI-40222 , Mobile Number: +923343523966\n",
    "[05/08/2022, 11:15:42 PM] ‪+92 324 2824117‬: Name : Abdul Sami  Roll number : AI-40352 Email : abdulsamiarain82@gmail.com Mobile number : 03242824117\n",
    "[05/08/2022, 11:16:12 PM] ‪+92 312 2296999‬: Umair Taqi : AI-46155 - 03122296999 - umairtaqi48@gmail.com\n",
    "[05/08/2022, 11:16:15 PM] ‪+92 323 2553599‬: Name: Atiq Raza\n",
    "ID : AI-42612\n",
    "Email : razaatiq05@gmail.com\n",
    "Mobile No: 03232553599\n",
    "[05/08/2022, 11:16:16 PM] ‪+92 334 0378290‬: Ahsan Uddin\n",
    "AI-43505\n",
    "0334-0378290\n",
    "[05/08/2022, 11:16:48 PM] M Furqan Al & DS: Name: Muhammad Furqan\n",
    "Roll no:AI-40277\n",
    "Email: furqansawati@gmail.com\n",
    "Mobile no:03120004695\n",
    "[05/08/2022, 11:17:03 PM] ‪+92 306 2462926‬: Name: Syed Salman Ali , Roll No: AI-40969 , Mobile Number: +923062462926\n",
    "[05/08/2022, 11:17:25 PM] ‪+92 309 2655755‬: Name: Syed Muhammad Daniyal Azam\n",
    "Roll number: AI-47456\n",
    "Num: 03092655755\n",
    "Email : daniyalazam19@gmail.com\n",
    "[05/08/2022, 11:17:27 PM] ‪+92 302 8289423‬: Mehmood AI-41824 03028289423 mahmoodsuleman@hotmail.com\n",
    "'''"
   ]
  },
  {
   "cell_type": "code",
   "execution_count": 27,
   "id": "5a1bd672",
   "metadata": {},
   "outputs": [
    {
     "data": {
      "text/plain": [
       "'[05/08/2022, 11:10:42 PM] \\u202a+92\\xa0345\\xa03113993\\u202c: Iqbal Ahmed AI-46214 03453113993 iq.ahmed91@gmail.com\\n[05/08/2022, 11:11:59 PM] \\u202a+92\\xa0304\\xa03184681\\u202c: Muhammad Saad: AI46190 03043184681: sm.saad50@gmail.com\\n\\u200e[05/08/2022, 11:12:04 PM] Uni Zeeshan: re.rar \\u200edocument omitted\\n[05/08/2022, 11:12:05 PM] \\u202a+92\\xa0300\\xa02303175\\u202c: Shahzad Ahmed : AI-46165 - 03002303175 - shaze.ahmed@gmail.com\\n[05/08/2022, 11:12:43 PM] \\u202a+92\\xa0315\\xa02935701\\u202c: name: Sami rollno:AI- 40483 email: samikhan2872@gmail.com mobile-no:03152935701\\n[05/08/2022, 11:13:17 PM] \\u202a+92\\xa0334\\xa02995610\\u202c: Talha Mehfooz, AI-40211 email: khurshaiditm47@gmail.com , mobile: 03342995610\\n[05/08/2022, 11:13:18 PM] \\u202a+92\\xa0335\\xa03271054\\u202c: Muhammad Mohsin: AI-53993\\nEmail: mohsinsheikh0700@gmail.com\\nNo: 03353271054\\n[05/08/2022, 11:13:29 PM] \\u202a+92\\xa0345\\xa02541450\\u202c: Hidayat ur Rehman : AI-6546 email: abc@gmail.com\\n[05/08/2022, 11:13:30 PM] \\u202a+92\\xa0316\\xa02688657\\u202c: Muhammad Faizan: AI 40939\\nfaizanwaseem476@gmail.com\\n[05/08/2022, 11:13:31 PM] \\u202a+92\\xa0344\\xa02226632\\u202c: Name: Saad Ahmed\\nRollNo: AI-47242\\nEmail: hello.saad96@gmail.com\\n[05/08/2022, 11:13:32 PM] \\u202a+92\\xa0313\\xa01145255\\u202c: Gulzar :\\nAI-20145\\nEmail:hafizgulzar.alm1996@gmail.com\\nMobile no. 03131134244\\n[05/08/2022, 11:13:34 PM] \\u202a+92\\xa0323\\xa02900066\\u202c: Abdul Rasheed AI-40154\\nemail: abdulrasheed2511gmail.com\\n[05/08/2022, 11:13:46 PM] \\u202a+92\\xa0306\\xa02462926\\u202c: \\u200eThis message was deleted.\\n[05/08/2022, 11:13:59 PM] Uni Zeeshan: Muhammad Zeeshan : AI-400250 \\nEmail: abc@gmail.com\\nMobile no: 03153727169\\n[05/08/2022, 11:14:03 PM] \\u202a+92\\xa0342\\xa03392795\\u202c: Ahmed saleem :AI-44378\\nEmail: ahmedsaleem2122@gmail.com\\nMobile no:0342-3392795\\n[05/08/2022, 11:14:07 PM] Ali Nasir Al & DS: Name : Ali Nasir \\nRoll No: 44365 \\nNIC: 42101-9864676-7 \\nEmail: malinasir1997@gmail.com \\nMobile No: 0331-2147373\\n[05/08/2022, 11:14:14 PM] \\u202a+92\\xa0333\\xa03120597\\u202c: Name : Hamza Ahmed Ansari Roll number : AI-40591 Email : ibneshakeel2000@gmail.com Mobile number : 03333120597\\n[05/08/2022, 11:14:15 PM] Zubair Rasheed: name: Zubair\\nroll no: AI- 40200 \\nemail: zubairrasheed0316@gmail.com \\nmobile-no: 03161448439\\n[05/08/2022, 11:14:24 PM] \\u202a+92\\xa0315\\xa02185186\\u202c: Name: Irfan Roll Number: AI-45055 email: irfanmuhammadk786@gmail.com Mobile Number: 03152185186\\n[05/08/2022, 11:15:16 PM] \\u202a+92\\xa0312\\xa02093412\\u202c: Basharat Ali :AI-46716\\nEmail: basharatfarhad24@gmail.com\\nMobile no:03122093412\\n[05/08/2022, 11:15:19 PM] \\u202a+92\\xa0312\\xa02296999\\u202c: \\u200eThis message was deleted.\\n[05/08/2022, 11:15:27 PM] \\u202a+92\\xa0344\\xa01802958\\u202c: Name: Muhammad usama\\nRoll no : AI-43985\\nMobile no : 03441802958\\nEmail : usamakh315@gmail.com\\n[05/08/2022, 11:15:30 PM] \\u202a+92\\xa0312\\xa08525358\\u202c: Faraz uddin : AI-44226- 03128525358 - asbausmuhammad92@gmail.com\\n[05/08/2022, 11:15:36 PM] \\u202a+92\\xa0334\\xa03523966\\u202c: Name: Syed Muhammad Mooazam , Roll No: AI-40222 , Mobile Number: +923343523966\\n[05/08/2022, 11:15:42 PM] \\u202a+92\\xa0324\\xa02824117\\u202c: Name : Abdul Sami  Roll number : AI-40352 Email : abdulsamiarain82@gmail.com Mobile number : 03242824117\\n[05/08/2022, 11:16:12 PM] \\u202a+92\\xa0312\\xa02296999\\u202c: Umair Taqi : AI-46155 - 03122296999 - umairtaqi48@gmail.com\\n[05/08/2022, 11:16:15 PM] \\u202a+92\\xa0323\\xa02553599\\u202c: Name: Atiq Raza\\nID : AI-42612\\nEmail : razaatiq05@gmail.com\\nMobile No: 03232553599\\n[05/08/2022, 11:16:16 PM] \\u202a+92\\xa0334\\xa00378290\\u202c: Ahsan Uddin\\nAI-43505\\n0334-0378290\\n[05/08/2022, 11:16:48 PM] M Furqan Al & DS: Name: Muhammad Furqan\\nRoll no:AI-40277\\nEmail: furqansawati@gmail.com\\nMobile no:03120004695\\n[05/08/2022, 11:17:03 PM] \\u202a+92\\xa0306\\xa02462926\\u202c: Name: Syed Salman Ali , Roll No: AI-40969 , Mobile Number: +923062462926\\n[05/08/2022, 11:17:25 PM] \\u202a+92\\xa0309\\xa02655755\\u202c: Name: Syed Muhammad Daniyal Azam\\nRoll number: AI-47456\\nNum: 03092655755\\nEmail : daniyalazam19@gmail.com\\n[05/08/2022, 11:17:27 PM] \\u202a+92\\xa0302\\xa08289423\\u202c: Mehmood AI-41824 03028289423 mahmoodsuleman@hotmail.com\\n'"
      ]
     },
     "execution_count": 27,
     "metadata": {},
     "output_type": "execute_result"
    }
   ],
   "source": [
    "a"
   ]
  },
  {
   "cell_type": "code",
   "execution_count": 28,
   "id": "0d729260",
   "metadata": {},
   "outputs": [],
   "source": [
    "import re"
   ]
  },
  {
   "cell_type": "code",
   "execution_count": 41,
   "id": "d8c10181",
   "metadata": {},
   "outputs": [
    {
     "name": "stdout",
     "output_type": "stream",
     "text": [
      "['Name: Saad', 'Name: Irfan', 'Name: Muhammad', 'Name: Syed', 'Name: Atiq', 'Name: Muhammad', 'Name: Syed', 'Name: Syed']\n",
      "['Email: mohsinsheikh0700@gmail.com', 'Email: hello.saad96@gmail.com', 'Email: abc@gmail.com', 'Email: ahmedsaleem2122@gmail.com', 'Email: malinasir1997@gmail.com', 'Email: basharatfarhad24@gmail.com', 'Email: furqansawati@gmail.com']\n"
     ]
    }
   ],
   "source": [
    "b = re.findall(\"Name: [A-z]+\",a)\n",
    "c = re.findall('Email: [A-z0-9_\\-\\.]+[@][A-z]+[\\.][A-z]{2,3}',a)\n",
    "\n",
    "\n",
    "print(b)\n",
    "\n",
    "print(c)"
   ]
  },
  {
   "cell_type": "code",
   "execution_count": 32,
   "id": "a11316ad",
   "metadata": {},
   "outputs": [
    {
     "data": {
      "text/plain": [
       "['Email: mohsinsheikh0700@gmail.com',\n",
       " 'Email: hello.saad96@gmail.com',\n",
       " 'Email: abc@gmail.com',\n",
       " 'Email: ahmedsaleem2122@gmail.com',\n",
       " 'Email: malinasir1997@gmail.com',\n",
       " 'Email: basharatfarhad24@gmail.com',\n",
       " 'Email: furqansawati@gmail.com']"
      ]
     },
     "execution_count": 32,
     "metadata": {},
     "output_type": "execute_result"
    }
   ],
   "source": []
  },
  {
   "cell_type": "code",
   "execution_count": null,
   "id": "266145c4",
   "metadata": {},
   "outputs": [],
   "source": []
  }
 ],
 "metadata": {
  "kernelspec": {
   "display_name": "Python 3 (ipykernel)",
   "language": "python",
   "name": "python3"
  },
  "language_info": {
   "codemirror_mode": {
    "name": "ipython",
    "version": 3
   },
   "file_extension": ".py",
   "mimetype": "text/x-python",
   "name": "python",
   "nbconvert_exporter": "python",
   "pygments_lexer": "ipython3",
   "version": "3.9.12"
  }
 },
 "nbformat": 4,
 "nbformat_minor": 5
}
