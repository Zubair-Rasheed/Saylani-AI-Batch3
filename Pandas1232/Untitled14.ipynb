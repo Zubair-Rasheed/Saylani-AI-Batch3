{
 "cells": [
  {
   "cell_type": "code",
   "execution_count": 1,
   "id": "f31b2428",
   "metadata": {},
   "outputs": [
    {
     "ename": "FileNotFoundError",
     "evalue": "[Errno 2] No such file or directory: 'wchat.txt'",
     "output_type": "error",
     "traceback": [
      "\u001b[1;31m---------------------------------------------------------------------------\u001b[0m",
      "\u001b[1;31mFileNotFoundError\u001b[0m                         Traceback (most recent call last)",
      "Input \u001b[1;32mIn [1]\u001b[0m, in \u001b[0;36m<cell line: 3>\u001b[1;34m()\u001b[0m\n\u001b[0;32m      1\u001b[0m \u001b[38;5;28;01mimport\u001b[39;00m \u001b[38;5;21;01mre\u001b[39;00m\n\u001b[0;32m      2\u001b[0m \u001b[38;5;28;01mimport\u001b[39;00m \u001b[38;5;21;01mpandas\u001b[39;00m \u001b[38;5;28;01mas\u001b[39;00m \u001b[38;5;21;01mpd\u001b[39;00m\n\u001b[1;32m----> 3\u001b[0m data \u001b[38;5;241m=\u001b[39m \u001b[38;5;28;43mopen\u001b[39;49m\u001b[43m(\u001b[49m\u001b[38;5;124;43m\"\u001b[39;49m\u001b[38;5;124;43mwchat.txt\u001b[39;49m\u001b[38;5;124;43m\"\u001b[39;49m\u001b[43m)\u001b[49m\n\u001b[0;32m      4\u001b[0m data \u001b[38;5;241m=\u001b[39m data\u001b[38;5;241m.\u001b[39mreadlines()\n\u001b[0;32m      5\u001b[0m i\u001b[38;5;241m=\u001b[39m\u001b[38;5;241m0\u001b[39m\n",
      "\u001b[1;31mFileNotFoundError\u001b[0m: [Errno 2] No such file or directory: 'wchat.txt'"
     ]
    }
   ],
   "source": [
    "import re\n",
    "import pandas as pd\n",
    "data = open(\"wchat.txt\")\n",
    "data = data.readlines()\n",
    "i=0\n",
    "Stdict = {\"Name\":[],\n",
    "          \"Roll_no\":[],\n",
    "          \"Time\": [],\n",
    "          \"Contact_no\":[],\n",
    "          \"Email\":[]  }\n",
    "## Defining regression Expression for Data fetching\n",
    "Nameregex = \"[A-z]\\w+\\s[A-z]\\w+\"\n",
    "Timeregex = \"\\d{2}:\\d{2} [PMAMpmam]{2}\"\n",
    "Rollregex = \" *AI[-\\s0-9\\s]{6,7}|Roll No:[\\s0-9\\s]{6} \"   \n",
    "Mobileregex = \"\\d\\d\\s\\d\\d\\d\\s\\d{7}| [0-9]{11,12}| [0-9]{4}-[0-9]{7}|[0-9]{11,12}\"   \n",
    "Mailregex = \"[A-z0-9].[A-z0-9]\\w[@][A-z].[A-z]*\"\n",
    "## Loop throught Data\n",
    "for m in data:\n",
    "        name = re.findall(Nameregex,data[i])\n",
    "        time  = re.findall(Timeregex, data[i])\n",
    "        rollno=re.findall(Rollregex, data[i])\n",
    "        email =re.findall(Mailregex, data[i])\n",
    "        mobile = re.findall(Mobileregex, data[i])\n",
    "        ## Rectifying Mobile Data\n",
    "        b=mobile[0]\n",
    "        b=b.replace(\" \",\"\").replace(\"+\",\"\").replace(\"-\",\"\")\n",
    "        if len(b) == 11:\n",
    "            tempmobile = \"+92-\"+b[1:len(b)-7]+\"-\"+b[len(b)-7:len(b)]\n",
    "        if len(b) == 12:\n",
    "            tempmobile = \"+92-\"+b[2:len(b)-7]+\"-\"+b[len(b)-7:len(b)]\n",
    "        if len(b) == 13:\n",
    "            tepmobile = \"+92-\"+b[3:len(b)-7]+\"-\"+b[len(b)-7:len(b)]\n",
    "        mobile = [tempmobile]\n",
    "        ## Rectifying Name Data\n",
    "        name = [name[0].replace(\" \",\"\").replace(\"Roll No\",\"\").replace(\"Mobile No\",\"\").\\\n",
    "                replace(\"AI\",\"\").replace(\"CR\",\"\").replace(\"IBT\",\"\").replace(\"rollno\",\"\")]\n",
    "        ## Rectifying Email Data\n",
    "        if email == []:\n",
    "            email=['None']\n",
    "        print(data[i])\n",
    "        print(name),print(rollno),print(mobile),print(time),print(email)\n",
    "        ## Adding to Dictionary\n",
    "        Stdict[\"Name\"].append(name[0])\n",
    "        Stdict[\"Roll_no\"].append(rollno[0])\n",
    "        Stdict[\"Time\"].append(time[0])\n",
    "        Stdict[\"Contact_no\"].append(mobile[0])\n",
    "        Stdict[\"Email\"].append(email[0])\n",
    "        \n",
    "        if(i<(len(data)-1)):\n",
    "            i =i+1\n",
    "## Creating Dataframe After Looping and cleaning Data\n",
    "StudendData = pd.DataFrame({k:pd.Series(v) for k,v in Stdict.items()})\n",
    "##{k:len(v) for k,v in Stdict.items()}\n",
    "StudendData.head(29)"
   ]
  },
  {
   "cell_type": "code",
   "execution_count": null,
   "id": "395e4860",
   "metadata": {},
   "outputs": [],
   "source": []
  }
 ],
 "metadata": {
  "kernelspec": {
   "display_name": "Python 3 (ipykernel)",
   "language": "python",
   "name": "python3"
  },
  "language_info": {
   "codemirror_mode": {
    "name": "ipython",
    "version": 3
   },
   "file_extension": ".py",
   "mimetype": "text/x-python",
   "name": "python",
   "nbconvert_exporter": "python",
   "pygments_lexer": "ipython3",
   "version": "3.9.12"
  }
 },
 "nbformat": 4,
 "nbformat_minor": 5
}
